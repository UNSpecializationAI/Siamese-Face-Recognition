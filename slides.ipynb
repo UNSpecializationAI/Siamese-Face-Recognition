{
 "cells": [
  {
   "cell_type": "markdown",
   "metadata": {
    "slideshow": {
     "slide_type": "slide"
    }
   },
   "source": [
    "# Siamese Networks\n",
    "\n",
    "Mateo Gonzalez  \n",
    "Alejandro Uribe  \n",
    "\n",
    "*Tópicos Avanzados en Inteligencia Aritificial II*  \n",
    "\n",
    "*December 2020*"
   ]
  },
  {
   "cell_type": "markdown",
   "metadata": {
    "slideshow": {
     "slide_type": "slide"
    }
   },
   "source": [
    "# What is a Siamese Network?\n",
    "AKA SNNs.\n",
    "\n",
    "Class of NNs architectures that contain two or more identical (same configuration, weights, parameters) subnetworks. \"Joint\" by the end through a similarity function."
   ]
  },
  {
   "cell_type": "markdown",
   "metadata": {
    "slideshow": {
     "slide_type": "slide"
    }
   },
   "source": [
    "# Why Siamese Neural Networks?\n",
    "- **Traditional architectures:** You might retrain the Neural Network if you add/remove classes.  \n",
    "- **SNNs:** Use a similarity function to classify new instances (numerical data, image data, sequential data)."
   ]
  },
  {
   "cell_type": "markdown",
   "metadata": {
    "slideshow": {
     "slide_type": "slide"
    }
   },
   "source": [
    "# Applications\n",
    "- One Shot Learning\n",
    "- Sales Forecasting\n",
    "- Matching Resumes to Jobs\n",
    "- Homoglyph Attack Detection"
   ]
  },
  {
   "cell_type": "markdown",
   "metadata": {
    "slideshow": {
     "slide_type": "slide"
    }
   },
   "source": [
    "# Pros & Cons\n",
    "|Pros|Cons|\n",
    "|---|---|\n",
    "|Robust to class imbalance|Need more training time than traditional NNs|\n",
    "|Learning from Semantic Similarity|Does not output probability but distance from each class|"
   ]
  },
  {
   "cell_type": "markdown",
   "metadata": {
    "slideshow": {
     "slide_type": "slide"
    }
   },
   "source": [
    "# Loss Functions\n",
    "- Triplet Loss\n",
    "- Contrastive Loss\n",
    "- Binary Cross Entropy Loss"
   ]
  },
  {
   "cell_type": "markdown",
   "metadata": {
    "slideshow": {
     "slide_type": "slide"
    }
   },
   "source": [
    "# SNN in practice"
   ]
  },
  {
   "cell_type": "markdown",
   "metadata": {
    "slideshow": {
     "slide_type": "slide"
    }
   },
   "source": [
    "# Conclusions\n",
    "- Layers in the two subnets share the same weights.\n",
    " - Meaningful descriptors.\n",
    " - Symmetrical output.\n",
    "- Prediction: Are the instances the same class or not.\n",
    " - Manually defined threshold."
   ]
  }
 ],
 "metadata": {
  "celltoolbar": "Slideshow",
  "kernelspec": {
   "display_name": "Python 3",
   "language": "python",
   "name": "python3"
  },
  "language_info": {
   "codemirror_mode": {
    "name": "ipython",
    "version": 3
   },
   "file_extension": ".py",
   "mimetype": "text/x-python",
   "name": "python",
   "nbconvert_exporter": "python",
   "pygments_lexer": "ipython3",
   "version": "3.8.5"
  }
 },
 "nbformat": 4,
 "nbformat_minor": 4
}
